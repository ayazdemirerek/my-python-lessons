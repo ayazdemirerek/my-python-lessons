{
 "cells": [
  {
   "cell_type": "code",
   "execution_count": 22,
   "id": "1f4a48ec-0847-43af-a9ae-5df87008508a",
   "metadata": {},
   "outputs": [],
   "source": [
    "def A(myname,middlename,lastname):\n",
    "    print(f\"hello {myname} {middlename} {lastname}\")"
   ]
  },
  {
   "cell_type": "code",
   "execution_count": 25,
   "id": "48eeae2f-f78a-4cc0-9033-e59ef03b79a5",
   "metadata": {},
   "outputs": [
    {
     "name": "stdout",
     "output_type": "stream",
     "text": [
      "hello Ayaz Demir EREK\n"
     ]
    }
   ],
   "source": [
    "A( myname='Ayaz' , middlename='Demir' , lastname= 'EREK' )"
   ]
  },
  {
   "cell_type": "code",
   "execution_count": null,
   "id": "a05fffe5-8cbf-405c-970c-54d2863af948",
   "metadata": {},
   "outputs": [],
   "source": [
    "--------------------------------------------------------------------"
   ]
  },
  {
   "cell_type": "code",
   "execution_count": 33,
   "id": "2f73df34-7246-4f68-a6b7-fe89cac64921",
   "metadata": {},
   "outputs": [],
   "source": [
    "def times(a,b):\n",
    "     return(a*b)"
   ]
  },
  {
   "cell_type": "code",
   "execution_count": 45,
   "id": "9e6811b6-583c-444f-9b7a-96599179d1e3",
   "metadata": {},
   "outputs": [],
   "source": [
    "result = times(13 , 16)"
   ]
  },
  {
   "cell_type": "code",
   "execution_count": 58,
   "id": "03562953-9076-4c49-ac07-32bfe1f5c205",
   "metadata": {},
   "outputs": [
    {
     "data": {
      "text/plain": [
       "208"
      ]
     },
     "execution_count": 58,
     "metadata": {},
     "output_type": "execute_result"
    }
   ],
   "source": [
    "result*1"
   ]
  },
  {
   "cell_type": "code",
   "execution_count": null,
   "id": "c307d34c-d6f3-4589-ac27-6f3dd1cff40c",
   "metadata": {},
   "outputs": [],
   "source": [
    "-------------------------------------------------------------------------"
   ]
  },
  {
   "cell_type": "code",
   "execution_count": 48,
   "id": "f71723c7-1cc1-4157-a9e9-9ec609168be2",
   "metadata": {},
   "outputs": [],
   "source": [
    "def times1(a,b):\n",
    "     print(a*b)"
   ]
  },
  {
   "cell_type": "code",
   "execution_count": 53,
   "id": "b2e94e50-10dc-449e-bd4f-cd8b1fdfebee",
   "metadata": {},
   "outputs": [
    {
     "name": "stdout",
     "output_type": "stream",
     "text": [
      "0\n"
     ]
    }
   ],
   "source": [
    "result1= times1(40,0)"
   ]
  },
  {
   "cell_type": "code",
   "execution_count": null,
   "id": "8daec243-8640-485a-9085-4e759870f06d",
   "metadata": {},
   "outputs": [],
   "source": [
    "------------------------------------------------------------------------"
   ]
  },
  {
   "cell_type": "code",
   "execution_count": 63,
   "id": "171f5980-24b4-46e5-9145-2893b643f438",
   "metadata": {},
   "outputs": [],
   "source": [
    "def simplemath():\n",
    "    number1 = 10\n",
    "    number2 = 2\n",
    "    return number1 / number2"
   ]
  },
  {
   "cell_type": "code",
   "execution_count": 80,
   "id": "92f14889-37c5-43a8-9cb5-dcfc0dadfdd6",
   "metadata": {},
   "outputs": [
    {
     "data": {
      "text/plain": [
       "5.0"
      ]
     },
     "execution_count": 80,
     "metadata": {},
     "output_type": "execute_result"
    }
   ],
   "source": [
    "simplemath()"
   ]
  },
  {
   "cell_type": "code",
   "execution_count": 86,
   "id": "7f796d18-3de6-4d4c-8ef3-da8469b6bcb0",
   "metadata": {},
   "outputs": [],
   "source": [
    "number3=80\n",
    "def simplemath1():\n",
    "    number1=20\n",
    "    number2=80\n",
    "    return number2/number1*number3"
   ]
  },
  {
   "cell_type": "code",
   "execution_count": 87,
   "id": "4ba88f6c-6322-4e5f-8cdb-0da780f74b6b",
   "metadata": {},
   "outputs": [
    {
     "data": {
      "text/plain": [
       "320.0"
      ]
     },
     "execution_count": 87,
     "metadata": {},
     "output_type": "execute_result"
    }
   ],
   "source": [
    "simplemath1()"
   ]
  },
  {
   "cell_type": "code",
   "execution_count": null,
   "id": "b6d198dd-efb0-4d12-912f-a7ba10f6f591",
   "metadata": {},
   "outputs": [],
   "source": [
    "--------------------------------------------------------------------------"
   ]
  },
  {
   "cell_type": "code",
   "execution_count": 89,
   "id": "cd70bd2d-3022-4ffe-99fd-d738664e5e5c",
   "metadata": {},
   "outputs": [],
   "source": [
    "def A():\n",
    "    number=7\n",
    "    number46=86\n",
    "    return number-number46"
   ]
  },
  {
   "cell_type": "code",
   "execution_count": 91,
   "id": "9bd0b0ec-a362-4a31-a7cc-ea903708940a",
   "metadata": {},
   "outputs": [
    {
     "data": {
      "text/plain": [
       "-79"
      ]
     },
     "execution_count": 91,
     "metadata": {},
     "output_type": "execute_result"
    }
   ],
   "source": [
    "A()"
   ]
  },
  {
   "cell_type": "code",
   "execution_count": 112,
   "id": "3e99b64a-fce3-4c09-9b37-5aa0076b2c5b",
   "metadata": {},
   "outputs": [
    {
     "name": "stdout",
     "output_type": "stream",
     "text": [
      "Odd\n"
     ]
    }
   ],
   "source": [
    "number=67\n",
    "def elma():\n",
    "    number2=2\n",
    "\n",
    "if number%number2==0:\n",
    "    print('Even')\n",
    "else:\n",
    "    print('Odd')"
   ]
  },
  {
   "cell_type": "code",
   "execution_count": 116,
   "id": "198d6075-5ce1-4e7d-9b1c-c50812c463f8",
   "metadata": {},
   "outputs": [
    {
     "name": "stdout",
     "output_type": "stream",
     "text": [
      "number2\n"
     ]
    }
   ],
   "source": [
    "def u():\n",
    "    number=10\n",
    "    number1=11\n",
    "    number2=12\n",
    "    return max(number,number1,number2)\n",
    "if number>number1 and number>number2:\n",
    "    print('number')\n",
    "elif number1>number and number>number2:\n",
    "    print('number1')\n",
    "else:\n",
    "    print('number2')"
   ]
  },
  {
   "cell_type": "code",
   "execution_count": 143,
   "id": "1afc0b68-3704-41b3-9c2c-05757a0cdc5f",
   "metadata": {},
   "outputs": [],
   "source": [
    "def j():    \n",
    "    numbers=[19,37,52,98] \n",
    "    \n",
    "    for number in numbers:\n",
    "        print (number)"
   ]
  },
  {
   "cell_type": "code",
   "execution_count": 144,
   "id": "4d6e8b06-f3c2-4bba-a867-52a70cd1a93d",
   "metadata": {},
   "outputs": [
    {
     "name": "stdout",
     "output_type": "stream",
     "text": [
      "19\n",
      "37\n",
      "52\n",
      "98\n"
     ]
    }
   ],
   "source": [
    "j()"
   ]
  },
  {
   "cell_type": "code",
   "execution_count": 42,
   "id": "005a1232-0fcc-40e4-80f7-f35abf6b85cf",
   "metadata": {},
   "outputs": [],
   "source": [
    "def L():    \n",
    "    numbers=[19,37,52,98] \n",
    "\n",
    "    print (numbers[0])\n",
    "    print (numbers[3])"
   ]
  },
  {
   "cell_type": "code",
   "execution_count": 43,
   "id": "80a911ac-6ecc-4737-8567-f089b0e75188",
   "metadata": {},
   "outputs": [
    {
     "name": "stdout",
     "output_type": "stream",
     "text": [
      "19\n",
      "98\n"
     ]
    }
   ],
   "source": [
    "L()"
   ]
  },
  {
   "cell_type": "code",
   "execution_count": 88,
   "id": "4e7e0191-0925-4d82-b511-5325c7ae23ed",
   "metadata": {},
   "outputs": [],
   "source": [
    "def N():\n",
    "    word=(input('Enter a word: '))\n",
    "    print(word[::-1])"
   ]
  },
  {
   "cell_type": "code",
   "execution_count": 89,
   "id": "f621b6a9-74db-415b-aa82-adb7fe11d44d",
   "metadata": {},
   "outputs": [
    {
     "name": "stdin",
     "output_type": "stream",
     "text": [
      "Enter a word:  birleşik arap emirlikleri\n"
     ]
    },
    {
     "name": "stdout",
     "output_type": "stream",
     "text": [
      "irelkilrime para kişelrib\n"
     ]
    }
   ],
   "source": [
    "N()"
   ]
  },
  {
   "cell_type": "code",
   "execution_count": 18,
   "id": "58321653-8e73-48d9-ad2a-21b691bab1b6",
   "metadata": {},
   "outputs": [],
   "source": [
    "def S():\n",
    "    Score= int(input( 'Enter your score:  '))\n",
    "\n",
    "    if Score>= 90:\n",
    "        print('Grade A')\n",
    "    elif Score in range(80,90):\n",
    "        print ('Grade B')\n",
    "    elif Score in range(70,80):\n",
    "        print('Grade C')\n",
    "    elif Score in range(60,70):\n",
    "        print(' Grade D')\n",
    "    else :\n",
    "        print('Grade F')\n",
    "\n",
    "    "
   ]
  },
  {
   "cell_type": "code",
   "execution_count": 19,
   "id": "1a4b3035-d519-4c0c-adce-6b64d60370ff",
   "metadata": {},
   "outputs": [
    {
     "name": "stdin",
     "output_type": "stream",
     "text": [
      "Enter your score:   70\n"
     ]
    },
    {
     "name": "stdout",
     "output_type": "stream",
     "text": [
      "Grade C\n"
     ]
    }
   ],
   "source": [
    "S()"
   ]
  },
  {
   "cell_type": "code",
   "execution_count": 33,
   "id": "2b46e22e-b650-4d5c-a6fd-59e8324c620d",
   "metadata": {},
   "outputs": [],
   "source": [
    "def Z():\n",
    "    Number= int(input( 'Enter your number:  '))\n",
    "\n",
    "    if Number>0:\n",
    "        print('Positive')\n",
    "    elif Number<0:\n",
    "        print('Negative')\n",
    "    else: \n",
    "        print('Zero')"
   ]
  },
  {
   "cell_type": "code",
   "execution_count": 35,
   "id": "b26f2f17-0e15-4abe-a77e-fcc7dcd81c8f",
   "metadata": {},
   "outputs": [
    {
     "name": "stdin",
     "output_type": "stream",
     "text": [
      "Enter your number:   -85\n"
     ]
    },
    {
     "name": "stdout",
     "output_type": "stream",
     "text": [
      "Negative\n"
     ]
    }
   ],
   "source": [
    "Z()"
   ]
  },
  {
   "cell_type": "code",
   "execution_count": 51,
   "id": "cbc748e1-2c2b-4a2c-b860-7342fdabde74",
   "metadata": {},
   "outputs": [],
   "source": [
    "name='Ilgın'\n"
   ]
  },
  {
   "cell_type": "code",
   "execution_count": 87,
   "id": "e49984c5-5862-4a25-988d-322738f1d8ed",
   "metadata": {},
   "outputs": [
    {
     "data": {
      "text/plain": [
       "'nıglI'"
      ]
     },
     "execution_count": 87,
     "metadata": {},
     "output_type": "execute_result"
    }
   ],
   "source": [
    "name[::-1]"
   ]
  },
  {
   "cell_type": "code",
   "execution_count": 16,
   "id": "080985e9-ba06-4d82-ba35-542a3b79923f",
   "metadata": {},
   "outputs": [],
   "source": [
    "def hurma():\n",
    "\n",
    "    a=10\n",
    "    b=20\n",
    "\n",
    "    return a+b"
   ]
  },
  {
   "cell_type": "code",
   "execution_count": 17,
   "id": "84f2caf1-2acd-4d6e-aac3-0520e1564e93",
   "metadata": {},
   "outputs": [
    {
     "data": {
      "text/plain": [
       "30"
      ]
     },
     "execution_count": 17,
     "metadata": {},
     "output_type": "execute_result"
    }
   ],
   "source": [
    "hurma()"
   ]
  },
  {
   "cell_type": "code",
   "execution_count": 61,
   "id": "7aad20b8-724d-4b29-85ae-5b63a5b64d87",
   "metadata": {},
   "outputs": [],
   "source": [
    "def araba(x,z):\n",
    "     return x+z"
   ]
  },
  {
   "cell_type": "code",
   "execution_count": 67,
   "id": "690c012b-2ecd-4006-83d8-a1d48ffb9a00",
   "metadata": {},
   "outputs": [
    {
     "data": {
      "text/plain": [
       "30"
      ]
     },
     "execution_count": 67,
     "metadata": {},
     "output_type": "execute_result"
    }
   ],
   "source": [
    "araba(x=10,z=20)"
   ]
  },
  {
   "cell_type": "code",
   "execution_count": 68,
   "id": "4fcf26d3-90f2-45e6-8a96-ba908198f49d",
   "metadata": {},
   "outputs": [],
   "source": [
    "import time"
   ]
  },
  {
   "cell_type": "code",
   "execution_count": 69,
   "id": "bf2ac092-337d-42e4-a983-9829309a560d",
   "metadata": {},
   "outputs": [],
   "source": [
    "import datetime"
   ]
  },
  {
   "cell_type": "code",
   "execution_count": 72,
   "id": "8227e242-f777-44d1-8975-23562d7d5dd7",
   "metadata": {},
   "outputs": [
    {
     "data": {
      "text/plain": [
       "'Fri Jun 28 16:31:14 2024'"
      ]
     },
     "execution_count": 72,
     "metadata": {},
     "output_type": "execute_result"
    }
   ],
   "source": [
    "time.ctime()"
   ]
  },
  {
   "cell_type": "code",
   "execution_count": 74,
   "id": "595b22a5-e9a0-47fa-8ec0-7190b9b3e1a0",
   "metadata": {},
   "outputs": [
    {
     "data": {
      "text/plain": [
       "'Fri Jun 28 16:32:02 2024'"
      ]
     },
     "execution_count": 74,
     "metadata": {},
     "output_type": "execute_result"
    }
   ],
   "source": [
    "time.asctime()"
   ]
  },
  {
   "cell_type": "code",
   "execution_count": 76,
   "id": "a193f3b3-627b-4393-8970-c25233f5ca3b",
   "metadata": {},
   "outputs": [],
   "source": [
    "date_today=datetime.datetime.now()"
   ]
  },
  {
   "cell_type": "code",
   "execution_count": 77,
   "id": "8d059f4b-eaad-447a-8105-96f09e729bf9",
   "metadata": {},
   "outputs": [
    {
     "name": "stdout",
     "output_type": "stream",
     "text": [
      "2024-06-28 16:33:41.363283\n"
     ]
    }
   ],
   "source": [
    "print (date_today)"
   ]
  },
  {
   "cell_type": "code",
   "execution_count": 91,
   "id": "0abb4a22-9170-465b-b3d5-b3d8a3c95dc2",
   "metadata": {},
   "outputs": [],
   "source": [
    "date_birthday=datetime.datetime(2009,8,6,13,48)"
   ]
  },
  {
   "cell_type": "code",
   "execution_count": 92,
   "id": "1d90191d-d6a5-4050-8263-207a82ed1c38",
   "metadata": {},
   "outputs": [
    {
     "data": {
      "text/plain": [
       "datetime.datetime(2009, 8, 6, 13, 48)"
      ]
     },
     "execution_count": 92,
     "metadata": {},
     "output_type": "execute_result"
    }
   ],
   "source": [
    "date_birthday"
   ]
  },
  {
   "cell_type": "code",
   "execution_count": 93,
   "id": "a2889421-bc4e-446f-9ab0-fbff192f469d",
   "metadata": {},
   "outputs": [
    {
     "data": {
      "text/plain": [
       "2009"
      ]
     },
     "execution_count": 93,
     "metadata": {},
     "output_type": "execute_result"
    }
   ],
   "source": [
    "date_birthday.year"
   ]
  },
  {
   "cell_type": "code",
   "execution_count": 96,
   "id": "20866bdc-6582-4dba-9f05-1cfdf37b33e1",
   "metadata": {},
   "outputs": [
    {
     "data": {
      "text/plain": [
       "6"
      ]
     },
     "execution_count": 96,
     "metadata": {},
     "output_type": "execute_result"
    }
   ],
   "source": [
    "date_birthday.day"
   ]
  },
  {
   "cell_type": "code",
   "execution_count": 97,
   "id": "dff56b46-7841-47a1-8211-0fdbed77d2c1",
   "metadata": {},
   "outputs": [
    {
     "data": {
      "text/plain": [
       "8"
      ]
     },
     "execution_count": 97,
     "metadata": {},
     "output_type": "execute_result"
    }
   ],
   "source": [
    "date_birthday.month"
   ]
  },
  {
   "cell_type": "code",
   "execution_count": 127,
   "id": "f820921a-bb4d-4c89-a7fe-6b5ef271d2e9",
   "metadata": {},
   "outputs": [],
   "source": [
    "def age():\n",
    "    me= datetime.datetime(2009, 8, 6)\n",
    "    now= datetime.datetime(2024,6,28)\n",
    "\n",
    "    return now.year-me.year\n"
   ]
  },
  {
   "cell_type": "code",
   "execution_count": 128,
   "id": "9c3431f5-a984-40fa-888c-6446568bd0af",
   "metadata": {},
   "outputs": [
    {
     "data": {
      "text/plain": [
       "15"
      ]
     },
     "execution_count": 128,
     "metadata": {},
     "output_type": "execute_result"
    }
   ],
   "source": [
    "age()"
   ]
  },
  {
   "cell_type": "code",
   "execution_count": 131,
   "id": "a119a9b2-ce30-41c3-bf6c-5f1cf2c56b41",
   "metadata": {},
   "outputs": [],
   "source": [
    "def sum_3(a,b,c):\n",
    "    return a+b+c"
   ]
  },
  {
   "cell_type": "code",
   "execution_count": 132,
   "id": "47519c85-3d4c-4d08-a1ee-36234fb866c7",
   "metadata": {},
   "outputs": [
    {
     "data": {
      "text/plain": [
       "98"
      ]
     },
     "execution_count": 132,
     "metadata": {},
     "output_type": "execute_result"
    }
   ],
   "source": [
    "sum_3(a=9,b=87,c=2)"
   ]
  },
  {
   "cell_type": "code",
   "execution_count": 160,
   "id": "b74c6638-e473-4ebd-80be-c77884107660",
   "metadata": {},
   "outputs": [],
   "source": [
    "def sum_many(*args):\n",
    "    count=0\n",
    "    \n",
    "    for number in args:\n",
    "        count+=number\n",
    "        print (count)"
   ]
  },
  {
   "cell_type": "code",
   "execution_count": 161,
   "id": "51ea6e5d-fa1d-4856-a0a6-e0333ea2c93e",
   "metadata": {},
   "outputs": [
    {
     "name": "stdout",
     "output_type": "stream",
     "text": [
      "10\n",
      "13\n",
      "13\n",
      "14\n",
      "19\n",
      "27\n",
      "33\n",
      "42\n",
      "46\n"
     ]
    }
   ],
   "source": [
    "sum_many(10,3,0,1,5,8,6,9,4)"
   ]
  },
  {
   "cell_type": "code",
   "execution_count": 185,
   "id": "bfa6d662-f0c8-4d69-b7f3-d2e1db120837",
   "metadata": {},
   "outputs": [],
   "source": [
    "def count_stars():\n",
    "    \n",
    "    for number in range(5):\n",
    "        print(number*'*')\n"
   ]
  },
  {
   "cell_type": "code",
   "execution_count": 187,
   "id": "d67e243f-5de4-4873-b20d-b9b85bb25094",
   "metadata": {},
   "outputs": [
    {
     "name": "stdout",
     "output_type": "stream",
     "text": [
      "\n",
      "*\n",
      "**\n",
      "***\n",
      "****\n"
     ]
    }
   ],
   "source": [
    "count_stars()"
   ]
  },
  {
   "cell_type": "code",
   "execution_count": 69,
   "id": "05b2e70c-3343-4932-b9e8-fae9c0d560b3",
   "metadata": {},
   "outputs": [],
   "source": [
    "def count_vowels(s):\n",
    "    count=0\n",
    "    vowels = ('A,E,I,O,U,a,e,o,u,i')\n",
    "    for letters in s :\n",
    "        if letters in vowels:\n",
    "            count+=1\n",
    "    return count\n",
    "\n",
    "        "
   ]
  },
  {
   "cell_type": "code",
   "execution_count": 71,
   "id": "346f35bb-c77d-4126-a11f-c5a2ceb5bdc6",
   "metadata": {},
   "outputs": [
    {
     "data": {
      "text/plain": [
       "2"
      ]
     },
     "execution_count": 71,
     "metadata": {},
     "output_type": "execute_result"
    }
   ],
   "source": [
    "count_vowels('Murat')"
   ]
  },
  {
   "cell_type": "code",
   "execution_count": 275,
   "id": "fcc58c84-6219-44f5-9735-6606fcc7ceb7",
   "metadata": {},
   "outputs": [],
   "source": [
    "import time\n",
    "def countdown():\n",
    "    \n",
    "   \n",
    "    for number in range(60,0,-1):\n",
    "        time.sleep(1)\n",
    "        print(number)\n",
    "     \n",
    "\n",
    "        "
   ]
  },
  {
   "cell_type": "code",
   "execution_count": 277,
   "id": "8b1e5cf2-f94d-48a4-b648-66855110dcc7",
   "metadata": {},
   "outputs": [
    {
     "name": "stdout",
     "output_type": "stream",
     "text": [
      "60\n",
      "59\n",
      "58\n",
      "57\n",
      "56\n",
      "55\n",
      "54\n",
      "53\n",
      "52\n",
      "51\n",
      "50\n",
      "49\n",
      "48\n",
      "47\n",
      "46\n",
      "45\n",
      "44\n",
      "43\n",
      "42\n",
      "41\n",
      "40\n",
      "39\n",
      "38\n",
      "37\n",
      "36\n",
      "35\n",
      "34\n",
      "33\n",
      "32\n",
      "31\n",
      "30\n",
      "29\n",
      "28\n",
      "27\n",
      "26\n",
      "25\n",
      "24\n",
      "23\n",
      "22\n",
      "21\n",
      "20\n",
      "19\n",
      "18\n",
      "17\n",
      "16\n",
      "15\n",
      "14\n",
      "13\n",
      "12\n",
      "11\n",
      "10\n",
      "9\n",
      "8\n",
      "7\n",
      "6\n",
      "5\n",
      "4\n",
      "3\n",
      "2\n",
      "1\n"
     ]
    }
   ],
   "source": [
    "countdown()"
   ]
  }
 ],
 "metadata": {
  "kernelspec": {
   "display_name": "Python 3 (ipykernel)",
   "language": "python",
   "name": "python3"
  },
  "language_info": {
   "codemirror_mode": {
    "name": "ipython",
    "version": 3
   },
   "file_extension": ".py",
   "mimetype": "text/x-python",
   "name": "python",
   "nbconvert_exporter": "python",
   "pygments_lexer": "ipython3",
   "version": "3.11.5"
  }
 },
 "nbformat": 4,
 "nbformat_minor": 5
}
