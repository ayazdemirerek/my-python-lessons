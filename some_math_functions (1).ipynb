{
 "cells": [
  {
   "cell_type": "code",
   "execution_count": 1,
   "id": "5e3394f6-c6bb-4aa9-8394-e29f1501cbe1",
   "metadata": {},
   "outputs": [],
   "source": [
    "import math"
   ]
  },
  {
   "cell_type": "markdown",
   "id": "56de0b16-2511-4ec7-81b3-d3b9afab2f18",
   "metadata": {},
   "source": [
    "##### Some math functions"
   ]
  },
  {
   "cell_type": "markdown",
   "id": "74efeafd-e8c4-4396-b838-d44eb74afb62",
   "metadata": {},
   "source": [
    "math.pow(x, y) gives x raised to the power y"
   ]
  },
  {
   "cell_type": "code",
   "execution_count": 2,
   "id": "7c10f6aa-f81d-40e4-8739-c789f2879cb2",
   "metadata": {},
   "outputs": [
    {
     "data": {
      "text/plain": [
       "256.0"
      ]
     },
     "execution_count": 2,
     "metadata": {},
     "output_type": "execute_result"
    }
   ],
   "source": [
    "x = 2\n",
    "y = 8\n",
    "math.pow(x,y)"
   ]
  },
  {
   "cell_type": "markdown",
   "id": "0ab2dca7-dfba-4f48-9cdd-be8d67fed072",
   "metadata": {},
   "source": [
    "can also be written as "
   ]
  },
  {
   "cell_type": "code",
   "execution_count": 3,
   "id": "99e71818-47da-4967-af99-482586d4da18",
   "metadata": {},
   "outputs": [
    {
     "data": {
      "text/plain": [
       "True"
      ]
     },
     "execution_count": 3,
     "metadata": {},
     "output_type": "execute_result"
    }
   ],
   "source": [
    "math.pow(x,y) == x ** y"
   ]
  },
  {
   "cell_type": "markdown",
   "id": "c7aa8a38-d25e-4856-809c-2524472e0f67",
   "metadata": {},
   "source": [
    "math.sqrt(x): Returns the square root of x."
   ]
  },
  {
   "cell_type": "code",
   "execution_count": 4,
   "id": "b8c198a5-99c7-41a4-a2e2-bf1e514ef20a",
   "metadata": {},
   "outputs": [
    {
     "data": {
      "text/plain": [
       "5.0"
      ]
     },
     "execution_count": 4,
     "metadata": {},
     "output_type": "execute_result"
    }
   ],
   "source": [
    "x = 25\n",
    "math.sqrt(x)"
   ]
  },
  {
   "cell_type": "markdown",
   "id": "fea10893-c86a-4791-afba-a720ecafd07d",
   "metadata": {},
   "source": [
    "math.ceil(x): Returns the smallest integer greater than or equal to x."
   ]
  },
  {
   "cell_type": "code",
   "execution_count": 5,
   "id": "b2dab62c-691c-452e-9cd7-79e50ff6f534",
   "metadata": {},
   "outputs": [
    {
     "data": {
      "text/plain": [
       "8"
      ]
     },
     "execution_count": 5,
     "metadata": {},
     "output_type": "execute_result"
    }
   ],
   "source": [
    "x = 7.5\n",
    "math.ceil(x)"
   ]
  },
  {
   "cell_type": "markdown",
   "id": "3946fdcb-913e-45d4-932c-5d9ebcfddde4",
   "metadata": {},
   "source": [
    "math.floor(x): Returns the largest integer less than or equal to x."
   ]
  },
  {
   "cell_type": "code",
   "execution_count": 6,
   "id": "9b13bb9e-0aab-4cb4-b51d-7f44d81e68c6",
   "metadata": {},
   "outputs": [
    {
     "data": {
      "text/plain": [
       "7"
      ]
     },
     "execution_count": 6,
     "metadata": {},
     "output_type": "execute_result"
    }
   ],
   "source": [
    "x = 7.5\n",
    "math.floor(x)"
   ]
  },
  {
   "cell_type": "markdown",
   "id": "f5b68f8f-670a-4094-8338-038ff7f1c9be",
   "metadata": {},
   "source": [
    "TASK 1"
   ]
  },
  {
   "cell_type": "markdown",
   "id": "38132363-aff3-4ae4-8c73-e6dcffbb6829",
   "metadata": {},
   "source": [
    "You have five types of fruits: orange, banana, watermelon, apple, and strawberry.\r\n",
    "\r\n",
    "The prices of these fruits are written as floating-point numbers (floats).\r\n",
    "\r\n",
    "Your task is to write a Python program that performs the following steps:\r\n",
    "\r\n",
    "1. Check if the price of each fruit is a float.\r\n",
    "\r\n",
    "2. If the decimal part of the price is greater than or equal to 0.5, round it up to the nearest integer.\r\n",
    "\r\n",
    "3. If the decimal part of the price is less than 0.5, round it down to the nearest integer.\r\n",
    "integer."
   ]
  },
  {
   "cell_type": "code",
   "execution_count": 14,
   "id": "8da9f96f-8b62-47de-8321-957b321fa896",
   "metadata": {},
   "outputs": [
    {
     "name": "stdin",
     "output_type": "stream",
     "text": [
      "enter the price of the fruit:  12.9\n"
     ]
    },
    {
     "name": "stdout",
     "output_type": "stream",
     "text": [
      "13\n"
     ]
    }
   ],
   "source": [
    "\n",
    "price = float(input(\"enter the price of the fruit: \")) # enter a float number\n",
    "\n",
    "\n",
    "decimal_part = price % 1  # the remainder of price divided by 1 \n",
    "\n",
    "if price > 0:\n",
    "\n",
    "    if decimal_part > 0.5:\n",
    "\n",
    "        print(math.ceil(price))\n",
    "\n",
    "    else:\n",
    "\n",
    "        print(math.floor(price))\n",
    "\n",
    "else:\n",
    "\n",
    "    print(\"not greater than zero\")"
   ]
  },
  {
   "cell_type": "markdown",
   "id": "56a9c100-684e-437d-a4d7-6145e79e7c4d",
   "metadata": {},
   "source": [
    "TASK 2"
   ]
  },
  {
   "cell_type": "markdown",
   "id": "f70b16e4-7214-4f67-8d54-c2db89bbc55c",
   "metadata": {},
   "source": [
    "### You have a list of numbers: [1, 2, 3, 4, 5, 6, 7, 8, 9, 10].\r\n",
    "\r\n",
    "For each number in the list\n",
    "\r\n",
    "\r\n",
    "If the number is divisible by 2, raise it to the power of\n",
    "2.\r\n",
    "\r\n",
    "If the number is divisible by 3, raise it to the power \n",
    "f 3.\r\n",
    "\r\n",
    "If the number is not divisible by \n",
    "leave it.umbers.\n"
   ]
  },
  {
   "cell_type": "code",
   "execution_count": 55,
   "id": "c103e75c-b4d0-4562-a775-909ce5191d26",
   "metadata": {},
   "outputs": [
    {
     "name": "stdout",
     "output_type": "stream",
     "text": [
      "1 is not divisible by 2 or 3\n",
      " the power of 2 4.0\n",
      " the power of 3 27.0\n",
      " the power of 4 16.0\n",
      "5 is not divisible by 2 or 3\n",
      " the power of 6 216.0\n",
      "7 is not divisible by 2 or 3\n",
      " the power of 8 64.0\n",
      " the power of 9 729.0\n",
      " the power of 10 100.0\n"
     ]
    }
   ],
   "source": [
    "list= [1,2,3,4,5,6,7,8,9,10]\n",
    "\n",
    "for number in list:\n",
    "    if number%3==0:\n",
    "        print (f\" the power of {number}\", math.pow(number,3))\n",
    "    elif number %2==0:\n",
    "        print (f\" the power of {number}\", math.pow(number,2))\n",
    "    else:\n",
    "        print(f'{number} is not divisible by 2 or 3')"
   ]
  },
  {
   "cell_type": "code",
   "execution_count": 56,
   "id": "3dfb95d0-ff2a-44ea-a03f-6d71ca964153",
   "metadata": {},
   "outputs": [
    {
     "name": "stdout",
     "output_type": "stream",
     "text": [
      "banana\n",
      "banana\n",
      "strawberry\n",
      "apple\n",
      "strawberry\n",
      "banana\n",
      "strawberry\n",
      "apple\n",
      "apple\n",
      "banana\n",
      "strawberry\n",
      "apple\n"
     ]
    }
   ],
   "source": [
    "Fruits=['banana','strawberry','apple']\n",
    "\n",
    "for fruit in Fruits:\n",
    "    print(fruit)\n",
    "    for fruit in Fruits:\n",
    "        print(fruit)\n",
    "        \n"
   ]
  }
 ],
 "metadata": {
  "kernelspec": {
   "display_name": "Python 3 (ipykernel)",
   "language": "python",
   "name": "python3"
  },
  "language_info": {
   "codemirror_mode": {
    "name": "ipython",
    "version": 3
   },
   "file_extension": ".py",
   "mimetype": "text/x-python",
   "name": "python",
   "nbconvert_exporter": "python",
   "pygments_lexer": "ipython3",
   "version": "3.11.5"
  }
 },
 "nbformat": 4,
 "nbformat_minor": 5
}
